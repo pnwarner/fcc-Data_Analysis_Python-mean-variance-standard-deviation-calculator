{
 "cells": [
  {
   "cell_type": "markdown",
   "id": "31069e69",
   "metadata": {},
   "source": [
    "# Mean-Variance-Standard Deviation Calculator"
   ]
  },
  {
   "cell_type": "markdown",
   "id": "5b51dadf",
   "metadata": {},
   "source": [
    "#### Import libraries"
   ]
  },
  {
   "cell_type": "code",
   "execution_count": 10,
   "id": "cb1ccea3",
   "metadata": {},
   "outputs": [],
   "source": [
    "import numpy as np\n",
    "import unittest"
   ]
  },
  {
   "cell_type": "markdown",
   "id": "85d3d1b9",
   "metadata": {},
   "source": [
    "### Calculate function"
   ]
  },
  {
   "cell_type": "code",
   "execution_count": 3,
   "id": "a8f42962",
   "metadata": {},
   "outputs": [],
   "source": [
    "def calculate(list):\n",
    "    if len(list) < 9:\n",
    "        raise ValueError('List must contain nine numbers.')\n",
    "    arr = np.array(list).reshape((3,3))\n",
    "    calculations={\n",
    "        'mean': [np.mean(arr, axis=0).tolist(), np.mean(arr, axis=1).tolist(), np.mean(arr)],\n",
    "        'variance': [np.var(arr, axis=0).tolist(), np.var(arr, axis=1).tolist(), np.var(arr)],\n",
    "        'standard deviation': [np.std(arr, axis=0).tolist(), np.std(arr, axis=1).tolist(), np.std(arr)],\n",
    "        'max': [np.max(arr, axis=0).tolist(), np.max(arr, axis=1).tolist(), np.max(arr)],\n",
    "        'min': [np.min(arr, axis=0).tolist(), np.min(arr, axis=1).tolist(), np.min(arr)],\n",
    "        'sum': [np.sum(arr, axis=0).tolist(), np.sum(arr, axis=1).tolist(), np.sum(arr)]\n",
    "    }\n",
    "\n",
    "    return calculations"
   ]
  },
  {
   "cell_type": "markdown",
   "id": "8446474d",
   "metadata": {},
   "source": [
    "### Test calculate() function:"
   ]
  },
  {
   "cell_type": "code",
   "execution_count": 6,
   "id": "6d9c02f2",
   "metadata": {},
   "outputs": [],
   "source": [
    "return_dict = calculate([0,1,2,3,4,5,6,7,8])"
   ]
  },
  {
   "cell_type": "code",
   "execution_count": 8,
   "id": "931311c7",
   "metadata": {
    "scrolled": true
   },
   "outputs": [
    {
     "name": "stdout",
     "output_type": "stream",
     "text": [
      "mean [[3.0, 4.0, 5.0], [1.0, 4.0, 7.0], 4.0]\n",
      "variance [[6.0, 6.0, 6.0], [0.6666666666666666, 0.6666666666666666, 0.6666666666666666], 6.666666666666667]\n",
      "standard deviation [[2.449489742783178, 2.449489742783178, 2.449489742783178], [0.816496580927726, 0.816496580927726, 0.816496580927726], 2.581988897471611]\n",
      "max [[6, 7, 8], [2, 5, 8], 8]\n",
      "min [[0, 1, 2], [0, 3, 6], 0]\n",
      "sum [[9, 12, 15], [3, 12, 21], 36]\n"
     ]
    }
   ],
   "source": [
    "for key in return_dict:\n",
    "    print(key, return_dict[key])"
   ]
  },
  {
   "cell_type": "markdown",
   "id": "b1f102e3",
   "metadata": {},
   "source": [
    "# freeCodeCamp Project Unit  Tests"
   ]
  },
  {
   "cell_type": "markdown",
   "id": "00e891b8",
   "metadata": {},
   "source": [
    "### Unit tests"
   ]
  },
  {
   "cell_type": "code",
   "execution_count": 11,
   "id": "78be8610",
   "metadata": {},
   "outputs": [],
   "source": [
    "class UnitTests(unittest.TestCase):\n",
    "    def test_calculate(self):\n",
    "        actual = calculate([2,6,2,8,4,0,1,5,7])\n",
    "        expected = {'mean': [[3.6666666666666665, 5.0, 3.0], [3.3333333333333335, 4.0, 4.333333333333333], 3.888888888888889], 'variance': [[9.555555555555557, 0.6666666666666666, 8.666666666666666], [3.555555555555556, 10.666666666666666, 6.222222222222221], 6.987654320987654], 'standard deviation': [[3.091206165165235, 0.816496580927726, 2.943920288775949], [1.8856180831641267, 3.265986323710904, 2.494438257849294], 2.6434171674156266], 'max': [[8, 6, 7], [6, 8, 7], 8], 'min': [[1, 4, 0], [2, 0, 1], 0], 'sum': [[11, 15, 9], [10, 12, 13], 35]}\n",
    "        self.assertAlmostEqual(actual, expected, \"Expected different output when calling 'calculate()' with '[2,6,2,8,4,0,1,5,7]'\")\n",
    "\n",
    "    def test_calculate2(self):\n",
    "        actual = calculate([9,1,5,3,3,3,2,9,0])\n",
    "        expected = {'mean': [[4.666666666666667, 4.333333333333333, 2.6666666666666665], [5.0, 3.0, 3.6666666666666665], 3.888888888888889], 'variance': [[9.555555555555555, 11.555555555555557, 4.222222222222222], [10.666666666666666, 0.0, 14.888888888888891], 9.209876543209875], 'standard deviation': [[3.0912061651652345, 3.39934634239519, 2.0548046676563256], [3.265986323710904, 0.0, 3.8586123009300755], 3.0347778408328137], 'max': [[9, 9, 5], [9, 3, 9], 9], 'min': [[2, 1, 0], [1, 3, 0], 0], 'sum': [[14, 13, 8], [15, 9, 11], 35]}\n",
    "        self.assertAlmostEqual(actual, expected, \"Expected different output when calling 'calculate()' with '[9,1,5,3,3,3,2,9,0]'\")\n",
    "    \n",
    "    def test_calculate_with_few_digits(self):\n",
    "        self.assertRaisesRegex(ValueError, \"List must contain nine numbers.\", calculate, [2,6,2,8,4,0,1,])\n"
   ]
  },
  {
   "cell_type": "markdown",
   "id": "98f65d60",
   "metadata": {},
   "source": [
    "### Unit Test Results"
   ]
  },
  {
   "cell_type": "code",
   "execution_count": 16,
   "id": "42c3a8a5",
   "metadata": {
    "scrolled": true
   },
   "outputs": [
    {
     "name": "stderr",
     "output_type": "stream",
     "text": [
      "test_calculate (__main__.UnitTests.test_calculate) ... ok\n",
      "test_calculate2 (__main__.UnitTests.test_calculate2) ... ok\n",
      "test_calculate_with_few_digits (__main__.UnitTests.test_calculate_with_few_digits) ... ok\n",
      "\n",
      "----------------------------------------------------------------------\n",
      "Ran 3 tests in 0.013s\n",
      "\n",
      "OK\n"
     ]
    },
    {
     "data": {
      "text/plain": [
       "<unittest.main.TestProgram at 0x781581dd9fd0>"
      ]
     },
     "execution_count": 16,
     "metadata": {},
     "output_type": "execute_result"
    }
   ],
   "source": [
    "unittest.main(argv=[''], verbosity=2, exit=False)"
   ]
  }
 ],
 "metadata": {
  "kernelspec": {
   "display_name": "Python 3 (ipykernel)",
   "language": "python",
   "name": "python3"
  },
  "language_info": {
   "codemirror_mode": {
    "name": "ipython",
    "version": 3
   },
   "file_extension": ".py",
   "mimetype": "text/x-python",
   "name": "python",
   "nbconvert_exporter": "python",
   "pygments_lexer": "ipython3",
   "version": "3.12.3"
  }
 },
 "nbformat": 4,
 "nbformat_minor": 5
}
